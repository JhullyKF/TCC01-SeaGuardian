{
  "nbformat": 4,
  "nbformat_minor": 0,
  "metadata": {
    "colab": {
      "provenance": [],
      "authorship_tag": "ABX9TyPe1JBG8o160NyHCn7vY28d",
      "include_colab_link": true
    },
    "kernelspec": {
      "name": "python3",
      "display_name": "Python 3"
    },
    "language_info": {
      "name": "python"
    }
  },
  "cells": [
    {
      "cell_type": "markdown",
      "metadata": {
        "id": "view-in-github",
        "colab_type": "text"
      },
      "source": [
        "<a href=\"https://colab.research.google.com/github/JhullyKF/TCC01-SeaGuardian/blob/main/Treinamento_YOLOv8.ipynb\" target=\"_parent\"><img src=\"https://colab.research.google.com/assets/colab-badge.svg\" alt=\"Open In Colab\"/></a>"
      ]
    },
    {
      "cell_type": "markdown",
      "source": [
        "# Configuração"
      ],
      "metadata": {
        "id": "tTzeRfezMd5I"
      }
    },
    {
      "cell_type": "code",
      "source": [
        "!pip install ultralytics"
      ],
      "metadata": {
        "id": "CS8jaeTCMnJw"
      },
      "execution_count": null,
      "outputs": []
    },
    {
      "cell_type": "code",
      "source": [
        "from ultralytics import YOLO\n",
        "import os\n",
        "import cv2\n",
        "import matplotlib.pyplot as plt"
      ],
      "metadata": {
        "id": "L8ld5rrkMzMD"
      },
      "execution_count": null,
      "outputs": []
    },
    {
      "cell_type": "code",
      "source": [
        "from google.colab import drive\n",
        "drive.mount('/content/gdrive')"
      ],
      "metadata": {
        "id": "YdZPBle2M0lc"
      },
      "execution_count": null,
      "outputs": []
    },
    {
      "cell_type": "code",
      "source": [
        "import locale\n",
        "locale.getpreferredencoding = lambda: \"UTF-8\""
      ],
      "metadata": {
        "id": "G7jt0iCCM28m"
      },
      "execution_count": null,
      "outputs": []
    },
    {
      "cell_type": "code",
      "source": [
        "!touch configs_modelo.yaml"
      ],
      "metadata": {
        "id": "5-pHJDERM8Ke"
      },
      "execution_count": null,
      "outputs": []
    },
    {
      "cell_type": "code",
      "source": [
        "%%writefile configs_modelo.yaml\n",
        "path: '/content/gdrive/MyDrive/dataset/dataset/'\n",
        "train: 'train/'\n",
        "val: 'valid/'\n",
        "\n",
        "nc: 1\n",
        "names: ['Person']"
      ],
      "metadata": {
        "id": "bFr6UOCLM_Oe"
      },
      "execution_count": null,
      "outputs": []
    },
    {
      "cell_type": "code",
      "source": [
        "diretorio_raiz = '/content/'\n",
        "arquivo_config = os.path.join(diretorio_raiz, 'configs_modelo.yaml')"
      ],
      "metadata": {
        "id": "pIu1xhknNC1D"
      },
      "execution_count": null,
      "outputs": []
    },
    {
      "cell_type": "code",
      "source": [
        "arquivo_config"
      ],
      "metadata": {
        "id": "oL55sFIiNFFv"
      },
      "execution_count": null,
      "outputs": []
    },
    {
      "cell_type": "markdown",
      "source": [
        "# Treinamento"
      ],
      "metadata": {
        "id": "a_bkN-RANOdo"
      }
    },
    {
      "cell_type": "code",
      "source": [
        "model = YOLO('/content/gdrive/MyDrive/dataset/dataset/resultados/trainx23(2)/weights/last.pt')"
      ],
      "metadata": {
        "id": "TBpDpAwONev3"
      },
      "execution_count": null,
      "outputs": []
    },
    {
      "cell_type": "code",
      "source": [
        "results = model.train(name='trainx23(3)', data='configs_modelo.yaml', epochs=10, imgsz=640, cls=0.5, val=True)"
      ],
      "metadata": {
        "id": "Unx5rV1mNkiD"
      },
      "execution_count": null,
      "outputs": []
    },
    {
      "cell_type": "markdown",
      "source": [
        "# Teste"
      ],
      "metadata": {
        "id": "DsxBaYC4Nudq"
      }
    },
    {
      "cell_type": "code",
      "source": [
        "!yolo task=detect mode=predict model='/content/gdrive/MyDrive/dataset/dataset/resultados/trainx23(2)/weights/best.pt' conf=0.5 source='/content/gdrive/MyDrive/dataset/dataset/teste' save=true"
      ],
      "metadata": {
        "id": "1tB8-8MSNynW"
      },
      "execution_count": null,
      "outputs": []
    },
    {
      "cell_type": "code",
      "source": [
        "dir_resultados = '/content/runs/detect/predict/'"
      ],
      "metadata": {
        "id": "EuOoIDCqN2TU"
      },
      "execution_count": null,
      "outputs": []
    },
    {
      "cell_type": "code",
      "source": [
        "def mostrar(img):\n",
        "  fig = plt.gcf()\n",
        "  fig.set_size_inches(16,10)\n",
        "  plt.axis('off')\n",
        "  plt.imshow(cv2.cvtColor(img, cv2.COLOR_BGR2RGB))\n",
        "  plt.show()"
      ],
      "metadata": {
        "id": "hvmDBF27N6Yl"
      },
      "execution_count": null,
      "outputs": []
    },
    {
      "cell_type": "code",
      "source": [
        "caminhos = [os.path.join(dir_resultados, f) for f in os.listdir(dir_resultados)]\n",
        "print(caminhos)"
      ],
      "metadata": {
        "id": "WmkJRiHBN9OP"
      },
      "execution_count": null,
      "outputs": []
    },
    {
      "cell_type": "code",
      "source": [
        "for caminho_imagem in caminhos:\n",
        "  #print(caminho_imagem)\n",
        "  imagem = cv2.imread(caminho_imagem)\n",
        "  mostrar(imagem)"
      ],
      "metadata": {
        "id": "pEzSZTK3ODMp"
      },
      "execution_count": null,
      "outputs": []
    }
  ]
}